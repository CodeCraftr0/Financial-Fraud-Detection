{
 "cells": [
  {
   "cell_type": "code",
   "execution_count": 1,
   "id": "bd58422b",
   "metadata": {},
   "outputs": [],
   "source": [
    "import sklearn\n",
    "import seaborn as sns\n",
    "import pandas as pd\n",
    "import matplotlib.pyplot as plt"
   ]
  },
  {
   "cell_type": "code",
   "execution_count": 2,
   "id": "c59c372e",
   "metadata": {},
   "outputs": [],
   "source": [
    "import numpy as np"
   ]
  },
  {
   "cell_type": "code",
   "execution_count": 3,
   "id": "1aa545a6",
   "metadata": {},
   "outputs": [],
   "source": [
    "data = pd.read_csv(r\"C:\\Users\\sadha\\OneDrive\\Desktop\\PROJECTS\\Financial-Fraud-Detection\\Fin-Fraud-dataset.csv\")"
   ]
  },
  {
   "cell_type": "code",
   "execution_count": 4,
   "id": "325b90ba",
   "metadata": {},
   "outputs": [
    {
     "data": {
      "text/plain": [
       "Index(['step', 'type', 'amount', 'nameOrig', 'oldbalanceOrg', 'newbalanceOrig',\n",
       "       'nameDest', 'oldbalanceDest', 'newbalanceDest', 'isFraud',\n",
       "       'isFlaggedFraud'],\n",
       "      dtype='object')"
      ]
     },
     "execution_count": 4,
     "metadata": {},
     "output_type": "execute_result"
    }
   ],
   "source": [
    "data.columns"
   ]
  },
  {
   "cell_type": "code",
   "execution_count": 5,
   "id": "6c534364",
   "metadata": {},
   "outputs": [
    {
     "data": {
      "text/html": [
       "<div>\n",
       "<style scoped>\n",
       "    .dataframe tbody tr th:only-of-type {\n",
       "        vertical-align: middle;\n",
       "    }\n",
       "\n",
       "    .dataframe tbody tr th {\n",
       "        vertical-align: top;\n",
       "    }\n",
       "\n",
       "    .dataframe thead th {\n",
       "        text-align: right;\n",
       "    }\n",
       "</style>\n",
       "<table border=\"1\" class=\"dataframe\">\n",
       "  <thead>\n",
       "    <tr style=\"text-align: right;\">\n",
       "      <th></th>\n",
       "      <th>step</th>\n",
       "      <th>type</th>\n",
       "      <th>amount</th>\n",
       "      <th>nameOrig</th>\n",
       "      <th>oldbalanceOrg</th>\n",
       "      <th>newbalanceOrig</th>\n",
       "      <th>nameDest</th>\n",
       "      <th>oldbalanceDest</th>\n",
       "      <th>newbalanceDest</th>\n",
       "      <th>isFraud</th>\n",
       "      <th>isFlaggedFraud</th>\n",
       "    </tr>\n",
       "  </thead>\n",
       "  <tbody>\n",
       "    <tr>\n",
       "      <th>0</th>\n",
       "      <td>1</td>\n",
       "      <td>PAYMENT</td>\n",
       "      <td>9839.64</td>\n",
       "      <td>C1231006815</td>\n",
       "      <td>170136.0</td>\n",
       "      <td>160296.36</td>\n",
       "      <td>M1979787155</td>\n",
       "      <td>0.0</td>\n",
       "      <td>0.0</td>\n",
       "      <td>0</td>\n",
       "      <td>0</td>\n",
       "    </tr>\n",
       "    <tr>\n",
       "      <th>1</th>\n",
       "      <td>1</td>\n",
       "      <td>PAYMENT</td>\n",
       "      <td>1864.28</td>\n",
       "      <td>C1666544295</td>\n",
       "      <td>21249.0</td>\n",
       "      <td>19384.72</td>\n",
       "      <td>M2044282225</td>\n",
       "      <td>0.0</td>\n",
       "      <td>0.0</td>\n",
       "      <td>0</td>\n",
       "      <td>0</td>\n",
       "    </tr>\n",
       "    <tr>\n",
       "      <th>2</th>\n",
       "      <td>1</td>\n",
       "      <td>TRANSFER</td>\n",
       "      <td>181.00</td>\n",
       "      <td>C1305486145</td>\n",
       "      <td>181.0</td>\n",
       "      <td>0.00</td>\n",
       "      <td>C553264065</td>\n",
       "      <td>0.0</td>\n",
       "      <td>0.0</td>\n",
       "      <td>1</td>\n",
       "      <td>0</td>\n",
       "    </tr>\n",
       "    <tr>\n",
       "      <th>3</th>\n",
       "      <td>1</td>\n",
       "      <td>CASH_OUT</td>\n",
       "      <td>181.00</td>\n",
       "      <td>C840083671</td>\n",
       "      <td>181.0</td>\n",
       "      <td>0.00</td>\n",
       "      <td>C38997010</td>\n",
       "      <td>21182.0</td>\n",
       "      <td>0.0</td>\n",
       "      <td>1</td>\n",
       "      <td>0</td>\n",
       "    </tr>\n",
       "    <tr>\n",
       "      <th>4</th>\n",
       "      <td>1</td>\n",
       "      <td>PAYMENT</td>\n",
       "      <td>11668.14</td>\n",
       "      <td>C2048537720</td>\n",
       "      <td>41554.0</td>\n",
       "      <td>29885.86</td>\n",
       "      <td>M1230701703</td>\n",
       "      <td>0.0</td>\n",
       "      <td>0.0</td>\n",
       "      <td>0</td>\n",
       "      <td>0</td>\n",
       "    </tr>\n",
       "  </tbody>\n",
       "</table>\n",
       "</div>"
      ],
      "text/plain": [
       "   step      type    amount     nameOrig  oldbalanceOrg  newbalanceOrig  \\\n",
       "0     1   PAYMENT   9839.64  C1231006815       170136.0       160296.36   \n",
       "1     1   PAYMENT   1864.28  C1666544295        21249.0        19384.72   \n",
       "2     1  TRANSFER    181.00  C1305486145          181.0            0.00   \n",
       "3     1  CASH_OUT    181.00   C840083671          181.0            0.00   \n",
       "4     1   PAYMENT  11668.14  C2048537720        41554.0        29885.86   \n",
       "\n",
       "      nameDest  oldbalanceDest  newbalanceDest  isFraud  isFlaggedFraud  \n",
       "0  M1979787155             0.0             0.0        0               0  \n",
       "1  M2044282225             0.0             0.0        0               0  \n",
       "2   C553264065             0.0             0.0        1               0  \n",
       "3    C38997010         21182.0             0.0        1               0  \n",
       "4  M1230701703             0.0             0.0        0               0  "
      ]
     },
     "execution_count": 5,
     "metadata": {},
     "output_type": "execute_result"
    }
   ],
   "source": [
    "data.head()"
   ]
  },
  {
   "cell_type": "code",
   "execution_count": 6,
   "id": "197b3c12",
   "metadata": {},
   "outputs": [
    {
     "data": {
      "text/html": [
       "<div>\n",
       "<style scoped>\n",
       "    .dataframe tbody tr th:only-of-type {\n",
       "        vertical-align: middle;\n",
       "    }\n",
       "\n",
       "    .dataframe tbody tr th {\n",
       "        vertical-align: top;\n",
       "    }\n",
       "\n",
       "    .dataframe thead th {\n",
       "        text-align: right;\n",
       "    }\n",
       "</style>\n",
       "<table border=\"1\" class=\"dataframe\">\n",
       "  <thead>\n",
       "    <tr style=\"text-align: right;\">\n",
       "      <th></th>\n",
       "      <th>step</th>\n",
       "      <th>type</th>\n",
       "      <th>amount</th>\n",
       "      <th>nameOrig</th>\n",
       "      <th>oldbalanceOrg</th>\n",
       "      <th>newbalanceOrig</th>\n",
       "      <th>nameDest</th>\n",
       "      <th>oldbalanceDest</th>\n",
       "      <th>newbalanceDest</th>\n",
       "      <th>isFraud</th>\n",
       "      <th>isFlaggedFraud</th>\n",
       "    </tr>\n",
       "  </thead>\n",
       "  <tbody>\n",
       "    <tr>\n",
       "      <th>6362615</th>\n",
       "      <td>743</td>\n",
       "      <td>CASH_OUT</td>\n",
       "      <td>339682.13</td>\n",
       "      <td>C786484425</td>\n",
       "      <td>339682.13</td>\n",
       "      <td>0.0</td>\n",
       "      <td>C776919290</td>\n",
       "      <td>0.00</td>\n",
       "      <td>339682.13</td>\n",
       "      <td>1</td>\n",
       "      <td>0</td>\n",
       "    </tr>\n",
       "    <tr>\n",
       "      <th>6362616</th>\n",
       "      <td>743</td>\n",
       "      <td>TRANSFER</td>\n",
       "      <td>6311409.28</td>\n",
       "      <td>C1529008245</td>\n",
       "      <td>6311409.28</td>\n",
       "      <td>0.0</td>\n",
       "      <td>C1881841831</td>\n",
       "      <td>0.00</td>\n",
       "      <td>0.00</td>\n",
       "      <td>1</td>\n",
       "      <td>0</td>\n",
       "    </tr>\n",
       "    <tr>\n",
       "      <th>6362617</th>\n",
       "      <td>743</td>\n",
       "      <td>CASH_OUT</td>\n",
       "      <td>6311409.28</td>\n",
       "      <td>C1162922333</td>\n",
       "      <td>6311409.28</td>\n",
       "      <td>0.0</td>\n",
       "      <td>C1365125890</td>\n",
       "      <td>68488.84</td>\n",
       "      <td>6379898.11</td>\n",
       "      <td>1</td>\n",
       "      <td>0</td>\n",
       "    </tr>\n",
       "    <tr>\n",
       "      <th>6362618</th>\n",
       "      <td>743</td>\n",
       "      <td>TRANSFER</td>\n",
       "      <td>850002.52</td>\n",
       "      <td>C1685995037</td>\n",
       "      <td>850002.52</td>\n",
       "      <td>0.0</td>\n",
       "      <td>C2080388513</td>\n",
       "      <td>0.00</td>\n",
       "      <td>0.00</td>\n",
       "      <td>1</td>\n",
       "      <td>0</td>\n",
       "    </tr>\n",
       "    <tr>\n",
       "      <th>6362619</th>\n",
       "      <td>743</td>\n",
       "      <td>CASH_OUT</td>\n",
       "      <td>850002.52</td>\n",
       "      <td>C1280323807</td>\n",
       "      <td>850002.52</td>\n",
       "      <td>0.0</td>\n",
       "      <td>C873221189</td>\n",
       "      <td>6510099.11</td>\n",
       "      <td>7360101.63</td>\n",
       "      <td>1</td>\n",
       "      <td>0</td>\n",
       "    </tr>\n",
       "  </tbody>\n",
       "</table>\n",
       "</div>"
      ],
      "text/plain": [
       "         step      type      amount     nameOrig  oldbalanceOrg  \\\n",
       "6362615   743  CASH_OUT   339682.13   C786484425      339682.13   \n",
       "6362616   743  TRANSFER  6311409.28  C1529008245     6311409.28   \n",
       "6362617   743  CASH_OUT  6311409.28  C1162922333     6311409.28   \n",
       "6362618   743  TRANSFER   850002.52  C1685995037      850002.52   \n",
       "6362619   743  CASH_OUT   850002.52  C1280323807      850002.52   \n",
       "\n",
       "         newbalanceOrig     nameDest  oldbalanceDest  newbalanceDest  isFraud  \\\n",
       "6362615             0.0   C776919290            0.00       339682.13        1   \n",
       "6362616             0.0  C1881841831            0.00            0.00        1   \n",
       "6362617             0.0  C1365125890        68488.84      6379898.11        1   \n",
       "6362618             0.0  C2080388513            0.00            0.00        1   \n",
       "6362619             0.0   C873221189      6510099.11      7360101.63        1   \n",
       "\n",
       "         isFlaggedFraud  \n",
       "6362615               0  \n",
       "6362616               0  \n",
       "6362617               0  \n",
       "6362618               0  \n",
       "6362619               0  "
      ]
     },
     "execution_count": 6,
     "metadata": {},
     "output_type": "execute_result"
    }
   ],
   "source": [
    "data.tail()"
   ]
  },
  {
   "cell_type": "code",
   "execution_count": 7,
   "id": "4a3a1ef2",
   "metadata": {},
   "outputs": [
    {
     "data": {
      "text/plain": [
       "step                int64\n",
       "type               object\n",
       "amount            float64\n",
       "nameOrig           object\n",
       "oldbalanceOrg     float64\n",
       "newbalanceOrig    float64\n",
       "nameDest           object\n",
       "oldbalanceDest    float64\n",
       "newbalanceDest    float64\n",
       "isFraud             int64\n",
       "isFlaggedFraud      int64\n",
       "dtype: object"
      ]
     },
     "execution_count": 7,
     "metadata": {},
     "output_type": "execute_result"
    }
   ],
   "source": [
    "data.dtypes"
   ]
  },
  {
   "cell_type": "code",
   "execution_count": 8,
   "id": "e925ca31",
   "metadata": {},
   "outputs": [
    {
     "data": {
      "text/plain": [
       "array([0, 1], dtype=int64)"
      ]
     },
     "execution_count": 8,
     "metadata": {},
     "output_type": "execute_result"
    }
   ],
   "source": [
    "data[\"isFraud\"].unique()"
   ]
  },
  {
   "cell_type": "code",
   "execution_count": 9,
   "id": "e372d507",
   "metadata": {},
   "outputs": [
    {
     "data": {
      "text/plain": [
       "array([0, 1], dtype=int64)"
      ]
     },
     "execution_count": 9,
     "metadata": {},
     "output_type": "execute_result"
    }
   ],
   "source": [
    "data[\"isFlaggedFraud\"].unique()"
   ]
  },
  {
   "cell_type": "code",
   "execution_count": 10,
   "id": "2b3bc92a",
   "metadata": {},
   "outputs": [
    {
     "data": {
      "text/plain": [
       "0"
      ]
     },
     "execution_count": 10,
     "metadata": {},
     "output_type": "execute_result"
    }
   ],
   "source": [
    "data.isnull().sum().max()"
   ]
  },
  {
   "cell_type": "markdown",
   "id": "e17caf9f",
   "metadata": {},
   "source": [
    "EDA"
   ]
  },
  {
   "cell_type": "code",
   "execution_count": 12,
   "id": "0a423c56",
   "metadata": {},
   "outputs": [
    {
     "name": "stdout",
     "output_type": "stream",
     "text": [
      "isFlaggedFraud\n",
      "0    99.999749\n",
      "1     0.000251\n",
      "Name: proportion, dtype: float64\n"
     ]
    },
    {
     "data": {
      "text/plain": [
       "<Axes: xlabel='isFlaggedFraud'>"
      ]
     },
     "execution_count": 12,
     "metadata": {},
     "output_type": "execute_result"
    },
    {
     "data": {
      "image/png": "[encoded data removed]",
      "text/plain": [
       "<Figure size 640x480 with 1 Axes>"
      ]
     },
     "metadata": {},
     "output_type": "display_data"
    }
   ],
   "source": [
    "print(data['isFlaggedFraud'].value_counts(normalize=True)*100)\n",
    "data['isFlaggedFraud'].value_counts(normalize=True).mul(100).plot(kind='bar', color=['blue', 'red'])  "
   ]
  },
  {
   "cell_type": "code",
   "execution_count": 13,
   "id": "36c3b4f2",
   "metadata": {},
   "outputs": [
    {
     "data": {
      "text/plain": [
       "<Axes: xlabel='type'>"
      ]
     },
     "execution_count": 13,
     "metadata": {},
     "output_type": "execute_result"
    },
    {
     "data": {
      "image/png": "[encoded data removed]",
      "text/plain": [
       "<Figure size 640x480 with 1 Axes>"
      ]
     },
     "metadata": {},
     "output_type": "display_data"
    }
   ],
   "source": [
    "data['type'].value_counts().plot(kind='bar', color=['blue', 'red', 'green', 'orange'])"
   ]
  },
  {
   "cell_type": "code",
   "execution_count": 14,
   "id": "907cc685",
   "metadata": {},
   "outputs": [
    {
     "data": {
      "text/plain": [
       "<Axes: xlabel='type'>"
      ]
     },
     "execution_count": 14,
     "metadata": {},
     "output_type": "execute_result"
    },
    {
     "data": {
      "image/png": "[encoded data removed]",
      "text/plain": [
       "<Figure size 640x480 with 1 Axes>"
      ]
     },
     "metadata": {},
     "output_type": "display_data"
    }
   ],
   "source": [
    "data.groupby('type')['isFraud'].mean().mul(100).plot(kind='bar', color=['blue', 'red', 'green', 'orange']) "
   ]
  },
  {
   "cell_type": "code",
   "execution_count": 15,
   "id": "b1e74c0e",
   "metadata": {},
   "outputs": [
    {
     "data": {
      "text/plain": [
       "<Axes: xlabel='type'>"
      ]
     },
     "execution_count": 15,
     "metadata": {},
     "output_type": "execute_result"
    },
    {
     "data": {
      "image/png": "[encoded data removed]",
      "text/plain": [
       "<Figure size 640x480 with 1 Axes>"
      ]
     },
     "metadata": {},
     "output_type": "display_data"
    }
   ],
   "source": [
    "data[data['isFraud'] == 1]['type'].value_counts(normalize=True).mul(100).plot(kind='bar', color=['blue', 'red', 'green', 'orange'])"
   ]
  },
  {
   "cell_type": "code",
   "execution_count": 17,
   "id": "0eec8429",
   "metadata": {},
   "outputs": [
    {
     "name": "stdout",
     "output_type": "stream",
     "text": [
      "The new data now has  2770409  transactions.\n"
     ]
    }
   ],
   "source": [
    "data = data.loc[data['type'].isin(['CASH_OUT','TRANSFER']),:]\n",
    "print('The new data now has ', len(data), ' transactions.')\n"
   ]
  },
  {
   "cell_type": "markdown",
   "id": "e26b5dd8",
   "metadata": {},
   "source": [
    "Data Sanity Checks"
   ]
  },
  {
   "cell_type": "code",
   "execution_count": 18,
   "id": "72754756",
   "metadata": {},
   "outputs": [
    {
     "name": "stdout",
     "output_type": "stream",
     "text": [
      "0\n"
     ]
    }
   ],
   "source": [
    "print(sum(data['amount']<0))"
   ]
  },
  {
   "cell_type": "code",
   "execution_count": 19,
   "id": "a0560c16",
   "metadata": {},
   "outputs": [
    {
     "name": "stdout",
     "output_type": "stream",
     "text": [
      "16\n"
     ]
    }
   ],
   "source": [
    "print(sum(data['amount']==0))"
   ]
  },
  {
   "cell_type": "code",
   "execution_count": 20,
   "id": "50617ac7",
   "metadata": {},
   "outputs": [],
   "source": [
    "data = data.loc[data['amount']>0,:]"
   ]
  },
  {
   "cell_type": "code",
   "execution_count": 21,
   "id": "4473066e",
   "metadata": {},
   "outputs": [
    {
     "name": "stdout",
     "output_type": "stream",
     "text": [
      "oldbalanceOrg\n",
      "False    52.766052\n",
      "True     47.233948\n",
      "Name: proportion, dtype: float64\n"
     ]
    }
   ],
   "source": [
    "print((data['oldbalanceOrg']==0).value_counts(normalize=True)*100)"
   ]
  },
  {
   "cell_type": "code",
   "execution_count": 22,
   "id": "ac5f8a79",
   "metadata": {},
   "outputs": [
    {
     "name": "stdout",
     "output_type": "stream",
     "text": [
      "newbalanceDest\n",
      "False    99.40106\n",
      "True      0.59894\n",
      "Name: proportion, dtype: float64\n"
     ]
    }
   ],
   "source": [
    "print((data['newbalanceDest']==0).value_counts(normalize=True)*100)"
   ]
  },
  {
   "cell_type": "code",
   "execution_count": 23,
   "id": "ceb4262e",
   "metadata": {},
   "outputs": [
    {
     "name": "stderr",
     "output_type": "stream",
     "text": [
      "C:\\Users\\sadha\\AppData\\Local\\Temp\\ipykernel_2740\\1948836574.py:2: FutureWarning: \n",
      "\n",
      "Passing `palette` without assigning `hue` is deprecated and will be removed in v0.14.0. Assign the `x` variable to `hue` and set `legend=False` for the same effect.\n",
      "\n",
      "  sns.countplot(x='step', data=data[data['isFraud']==1], palette=sns.color_palette(\"husl\", len(fraud_counts)))\n"
     ]
    },
    {
     "data": {
      "text/plain": [
       "<Axes: xlabel='step', ylabel='count'>"
      ]
     },
     "execution_count": 23,
     "metadata": {},
     "output_type": "execute_result"
    },
    {
     "data": {
      "image/png": "[encoded data removed]",
      "text/plain": [
       "<Figure size 640x480 with 1 Axes>"
      ]
     },
     "metadata": {},
     "output_type": "display_data"
    }
   ],
   "source": [
    "fraud_counts = data[data['isFraud'] == 1]['step'].value_counts().sort_index().reset_index()\n",
    "sns.countplot(x='step', data=data[data['isFraud']==1], palette=sns.color_palette(\"husl\", len(fraud_counts)))"
   ]
  },
  {
   "cell_type": "code",
   "execution_count": 24,
   "id": "a2a1a00b",
   "metadata": {},
   "outputs": [
    {
     "name": "stderr",
     "output_type": "stream",
     "text": [
      "C:\\Users\\sadha\\AppData\\Local\\Temp\\ipykernel_2740\\2502653267.py:2: FutureWarning: \n",
      "\n",
      "Passing `palette` without assigning `hue` is deprecated and will be removed in v0.14.0. Assign the `x` variable to `hue` and set `legend=False` for the same effect.\n",
      "\n",
      "  sns.countplot(x='step', data=data[data['isFraud']==0], palette=sns.color_palette(\"husl\", len(fraud_counts)))\n"
     ]
    },
    {
     "data": {
      "text/plain": [
       "<Axes: xlabel='step', ylabel='count'>"
      ]
     },
     "execution_count": 24,
     "metadata": {},
     "output_type": "execute_result"
    },
    {
     "data": {
      "image/png": "[encoded data removed]",
      "text/plain": [
       "<Figure size 640x480 with 1 Axes>"
      ]
     },
     "metadata": {},
     "output_type": "display_data"
    }
   ],
   "source": [
    "fraud_counts = data[data['isFraud'] == 0]['step'].value_counts().sort_index().reset_index()\n",
    "sns.countplot(x='step', data=data[data['isFraud']==0], palette=sns.color_palette(\"husl\", len(fraud_counts)))"
   ]
  },
  {
   "cell_type": "code",
   "execution_count": null,
   "id": "b1a9c1c0",
   "metadata": {},
   "outputs": [],
   "source": [
    "\n",
    "plt.figure(figsize=(8,6))\n",
    "sns.stripplot(\n",
    "    x=\"isFraud\",\n",
    "    y=data[\"amount\"]/1e8,\n",
    "    data=data,\n",
    "    jitter=0.3,          # slightly more separation\n",
    "    alpha=0.7,           # more noticeable dots        \n",
    "    size=1.5\n",
    ")\n",
    "plt.xticks([0,1], [\"Non-Fraud\",\"Fraud\"], fontsize=13)\n",
    "plt.title(\"Distribution of Inaccuracy in Destination Account Balances\", fontsize=15, fontweight='bold')\n",
    "plt.xlabel(\"\")\n",
    "plt.ylabel(\"Destination Balance Inaccuracy\", fontsize=13)\n",
    "plt.tight_layout()\n",
    "plt.show()\n"
   ]
  },
  {
   "cell_type": "code",
   "execution_count": null,
   "id": "8601b345",
   "metadata": {},
   "outputs": [],
   "source": [
    "data.columns"
   ]
  },
  {
   "cell_type": "code",
   "execution_count": 25,
   "id": "deba82f3",
   "metadata": {},
   "outputs": [],
   "source": [
    "data['origBalance_inacc'] = data['oldbalanceOrg'] - data['amount']\n",
    "data['destBalance_inacc'] = data['newbalanceDest'] + data['amount']"
   ]
  },
  {
   "cell_type": "code",
   "execution_count": null,
   "id": "a494f163",
   "metadata": {},
   "outputs": [],
   "source": [
    "plt.figure(figsize=(8,6))\n",
    "sns.stripplot(\n",
    "    x=\"isFraud\",\n",
    "    y=data[\"origBalance_inacc\"]/1e8,\n",
    "    data=data,\n",
    "    jitter=0.3,          # slightly more separation\n",
    "    alpha=0.7,           # more noticeable dots        \n",
    "    size=1.5\n",
    ")\n",
    "plt.xticks([0,1], [\"Non-Fraud\",\"Fraud\"], fontsize=13)\n",
    "plt.title(\"Distribution of Inaccuracy in originator Account Balances\", fontsize=15, fontweight='bold')\n",
    "plt.xlabel(\"\")\n",
    "plt.ylabel(\"Destination Balance Inaccuracy\", fontsize=13)\n",
    "plt.tight_layout()\n",
    "plt.show()"
   ]
  },
  {
   "cell_type": "code",
   "execution_count": null,
   "id": "e8203139",
   "metadata": {},
   "outputs": [],
   "source": [
    "plt.figure(figsize=(8,6))\n",
    "sns.stripplot(\n",
    "    x=\"isFraud\",\n",
    "    y=data[\"destBalance_inacc\"]/1e8,\n",
    "    data=data,\n",
    "    jitter=0.3,          # slightly more separation\n",
    "    alpha=0.7,           # more noticeable dots        \n",
    "    size=1.5\n",
    ")\n",
    "plt.xticks([0,1], [\"Non-Fraud\",\"Fraud\"], fontsize=13)\n",
    "plt.title(\"Distribution of Inaccuracy in originator Account Balances\", fontsize=15, fontweight='bold')\n",
    "plt.xlabel(\"\")\n",
    "plt.ylabel(\"Destination Balance Inaccuracy\", fontsize=13)\n",
    "plt.tight_layout()\n",
    "plt.show()"
   ]
  },
  {
   "cell_type": "code",
   "execution_count": 26,
   "id": "b12bb66e",
   "metadata": {},
   "outputs": [
    {
     "data": {
      "text/plain": [
       "Index(['step', 'type', 'amount', 'nameOrig', 'oldbalanceOrg', 'newbalanceOrig',\n",
       "       'nameDest', 'oldbalanceDest', 'newbalanceDest', 'isFraud',\n",
       "       'isFlaggedFraud', 'origBalance_inacc', 'destBalance_inacc'],\n",
       "      dtype='object')"
      ]
     },
     "execution_count": 26,
     "metadata": {},
     "output_type": "execute_result"
    }
   ],
   "source": [
    "data.columns"
   ]
  },
  {
   "cell_type": "code",
   "execution_count": 27,
   "id": "e339cb45",
   "metadata": {},
   "outputs": [],
   "source": [
    "data = data.drop(['nameOrig','nameDest','isFlaggedFraud'], axis=1)"
   ]
  },
  {
   "cell_type": "code",
   "execution_count": 28,
   "id": "dc59bf03",
   "metadata": {},
   "outputs": [
    {
     "data": {
      "text/plain": [
       "Index(['step', 'type', 'amount', 'oldbalanceOrg', 'newbalanceOrig',\n",
       "       'oldbalanceDest', 'newbalanceDest', 'isFraud', 'origBalance_inacc',\n",
       "       'destBalance_inacc'],\n",
       "      dtype='object')"
      ]
     },
     "execution_count": 28,
     "metadata": {},
     "output_type": "execute_result"
    }
   ],
   "source": [
    "data.columns"
   ]
  },
  {
   "cell_type": "code",
   "execution_count": 29,
   "id": "8ac746c3",
   "metadata": {},
   "outputs": [
    {
     "data": {
      "text/plain": [
       "array([1, 0], dtype=int64)"
      ]
     },
     "execution_count": 29,
     "metadata": {},
     "output_type": "execute_result"
    }
   ],
   "source": [
    "data['isFraud'].unique()"
   ]
  },
  {
   "cell_type": "code",
   "execution_count": 30,
   "id": "e45e3a2a",
   "metadata": {},
   "outputs": [],
   "source": [
    "from sklearn.preprocessing import StandardScaler, LabelEncoder\n",
    "from sklearn.model_selection import train_test_split"
   ]
  },
  {
   "cell_type": "code",
   "execution_count": 33,
   "id": "2161981f",
   "metadata": {},
   "outputs": [
    {
     "data": {
      "text/plain": [
       "Index(['step', 'amount', 'oldbalanceOrg', 'newbalanceOrig', 'oldbalanceDest',\n",
       "       'newbalanceDest', 'isFraud', 'origBalance_inacc', 'destBalance_inacc',\n",
       "       'type_CASH_OUT', 'type_TRANSFER'],\n",
       "      dtype='object')"
      ]
     },
     "execution_count": 33,
     "metadata": {},
     "output_type": "execute_result"
    }
   ],
   "source": [
    "data.columns"
   ]
  },
  {
   "cell_type": "code",
   "execution_count": 32,
   "id": "3f38e69c",
   "metadata": {},
   "outputs": [],
   "source": [
    "data = pd.get_dummies(data, columns=['type'], prefix=['type'])\n"
   ]
  },
  {
   "cell_type": "code",
   "execution_count": 35,
   "id": "042a41b0",
   "metadata": {},
   "outputs": [
    {
     "name": "stdout",
     "output_type": "stream",
     "text": [
      "Unique classes in y_train: [0 1]\n",
      "Unique classes in y_test: [0 1]\n"
     ]
    }
   ],
   "source": [
    "\n",
    "\n",
    "# 2. Scale all features except the target 'isFraud'\n",
    "features = data.loc[:, data.columns != 'isFraud']\n",
    "target = data['isFraud']\n",
    "\n",
    "std_scaler = StandardScaler()\n",
    "features_scaled = pd.DataFrame(std_scaler.fit_transform(features), columns=features.columns)\n",
    "\n",
    "# 3. Combine scaled features and target into a new DataFrame (optional)\n",
    "data_scaled = features_scaled.copy()\n",
    "data_scaled['isFraud'] = target.values  # add target back, ensure alignment\n",
    "\n",
    "# 4. Split into features and target for model training\n",
    "X = data_scaled.loc[:, data_scaled.columns != 'isFraud']\n",
    "y = data_scaled['isFraud']  # as a Series (1D)\n",
    "\n",
    "# 5. Perform train-test split\n",
    "X_train_original, X_test_original, y_train_original, y_test_original = train_test_split(\n",
    "    X, y, test_size=0.3, random_state=0, stratify=y  # stratify to preserve class distribution\n",
    ")\n",
    "\n",
    "# 6. Encode labels correctly:\n",
    "label_encoder = LabelEncoder()\n",
    "y_train_original = label_encoder.fit_transform(y_train_original)      # fit only on train\n",
    "y_test_original = label_encoder.transform(y_test_original)            # transform test using same encoder\n",
    "\n",
    "# 7. Check unique classes to confirm only 0 and 1, no '2'\n",
    "print(\"Unique classes in y_train:\", np.unique(y_train_original))\n",
    "print(\"Unique classes in y_test:\", np.unique(y_test_original))\n"
   ]
  },
  {
   "cell_type": "code",
   "execution_count": 36,
   "id": "622639e8",
   "metadata": {},
   "outputs": [
    {
     "name": "stdout",
     "output_type": "stream",
     "text": [
      "Class imbalance in train dataset: 0.296%\n",
      "Class imbalance in test dataset: 0.296%\n"
     ]
    }
   ],
   "source": [
    "train_pct = pd.Series(y_train_original).value_counts(normalize=True)[1]*100\n",
    "test_pct  = pd.Series(y_test_original).value_counts(normalize=True)[1]*100\n",
    "\n",
    "print(f\"Class imbalance in train dataset: {train_pct:.3f}%\")\n",
    "print(f\"Class imbalance in test dataset: {test_pct:.3f}%\")\n"
   ]
  },
  {
   "cell_type": "code",
   "execution_count": 37,
   "id": "0a9c1f70",
   "metadata": {},
   "outputs": [],
   "source": [
    "from sklearn.linear_model import LogisticRegression\n",
    "from sklearn.ensemble import RandomForestClassifier\n",
    "from sklearn.model_selection import StratifiedKFold, cross_val_score\n",
    "from sklearn.metrics import confusion_matrix, classification_report\n",
    "\n",
    "# Metric for evaluation\n",
    "scr = 'recall'\n",
    "accuracy_dict = {}\n",
    "\n",
    "# Define models\n",
    "model_lr = LogisticRegression()\n",
    "model_rf = RandomForestClassifier()\n",
    "\n",
    "# Stratified 5-fold cross validation (to handle class imbalance)\n",
    "skf = StratifiedKFold(5)\n"
   ]
  },
  {
   "cell_type": "code",
   "execution_count": 38,
   "id": "263d4f31",
   "metadata": {},
   "outputs": [
    {
     "name": "stdout",
     "output_type": "stream",
     "text": [
      "Logistic Regression's average recall score across validation sets is: 46.64 %\n",
      "TRAINING PERFORMANCE (Logistic Regression):\n",
      "              precision    recall  f1-score   support\n",
      "\n",
      "           0       1.00      1.00      1.00   1933537\n",
      "           1       0.89      0.47      0.61      5738\n",
      "\n",
      "    accuracy                           1.00   1939275\n",
      "   macro avg       0.94      0.73      0.81   1939275\n",
      "weighted avg       1.00      1.00      1.00   1939275\n",
      "\n",
      "Confusion Matrix:\n",
      " [[1933196     341]\n",
      " [   3064    2674]]\n",
      "\n",
      "TEST PERFORMANCE (Logistic Regression):\n",
      "              precision    recall  f1-score   support\n",
      "\n",
      "           0       1.00      1.00      1.00    828659\n",
      "           1       0.89      0.45      0.60      2459\n",
      "\n",
      "    accuracy                           1.00    831118\n",
      "   macro avg       0.94      0.72      0.80    831118\n",
      "weighted avg       1.00      1.00      1.00    831118\n",
      "\n",
      "Confusion Matrix:\n",
      " [[828522    137]\n",
      " [  1355   1104]]\n"
     ]
    }
   ],
   "source": [
    "# Train Logistic Regression with cross-validation\n",
    "sc_lr = cross_val_score(model_lr, X_train_original, y_train_original, cv=skf, scoring=scr)\n",
    "\n",
    "print(\"Logistic Regression's average recall score across validation sets is:\",\n",
    "      round(sc_lr.mean() * 100, 2), \"%\")\n",
    "\n",
    "# Fit on training data\n",
    "model_lr.fit(X_train_original, y_train_original)\n",
    "\n",
    "# Predictions\n",
    "y_train_pred_lr = model_lr.predict(X_train_original)\n",
    "y_test_pred_lr = model_lr.predict(X_test_original)\n",
    "\n",
    "# Evaluation\n",
    "print(\"TRAINING PERFORMANCE (Logistic Regression):\")\n",
    "print(classification_report(y_train_original, y_train_pred_lr))\n",
    "print(\"Confusion Matrix:\\n\", confusion_matrix(y_train_original, y_train_pred_lr))\n",
    "\n",
    "print(\"\\nTEST PERFORMANCE (Logistic Regression):\")\n",
    "print(classification_report(y_test_original, y_test_pred_lr))\n",
    "print(\"Confusion Matrix:\\n\", confusion_matrix(y_test_original, y_test_pred_lr))\n"
   ]
  },
  {
   "cell_type": "code",
   "execution_count": 40,
   "id": "49c23236",
   "metadata": {},
   "outputs": [
    {
     "name": "stdout",
     "output_type": "stream",
     "text": [
      "Random Forest's average recall score across validation sets is: 99.62 %\n",
      "TRAINING PERFORMANCE (Random Forest):\n",
      "              precision    recall  f1-score   support\n",
      "\n",
      "           0       1.00      1.00      1.00   1933537\n",
      "           1       1.00      1.00      1.00      5738\n",
      "\n",
      "    accuracy                           1.00   1939275\n",
      "   macro avg       1.00      1.00      1.00   1939275\n",
      "weighted avg       1.00      1.00      1.00   1939275\n",
      "\n",
      "Confusion Matrix:\n",
      " [[1933537       0]\n",
      " [      0    5738]]\n",
      "\n",
      "TEST PERFORMANCE (Random Forest):\n",
      "              precision    recall  f1-score   support\n",
      "\n",
      "           0       1.00      1.00      1.00    828659\n",
      "           1       1.00      1.00      1.00      2459\n",
      "\n",
      "    accuracy                           1.00    831118\n",
      "   macro avg       1.00      1.00      1.00    831118\n",
      "weighted avg       1.00      1.00      1.00    831118\n",
      "\n",
      "Confusion Matrix:\n",
      " [[828659      0]\n",
      " [    10   2449]]\n"
     ]
    }
   ],
   "source": [
    "# Train Random Forest with cross-validation\n",
    "sc_rf = cross_val_score(model_rf, X_train_original, y_train_original, cv=skf, scoring=scr)\n",
    "\n",
    "print(\"Random Forest's average recall score across validation sets is:\",\n",
    "      round(sc_rf.mean() * 100, 2), \"%\")\n",
    "\n",
    "# Fit on training data\n",
    "model_rf.fit(X_train_original, y_train_original)\n",
    "\n",
    "# Predictions\n",
    "y_train_pred_rf = model_rf.predict(X_train_original)\n",
    "y_test_pred_rf = model_rf.predict(X_test_original)\n",
    "\n",
    "# Evaluation\n",
    "print(\"TRAINING PERFORMANCE (Random Forest):\")\n",
    "print(classification_report(y_train_original, y_train_pred_rf))\n",
    "print(\"Confusion Matrix:\\n\", confusion_matrix(y_train_original, y_train_pred_rf))\n",
    "\n",
    "print(\"\\nTEST PERFORMANCE (Random Forest):\")\n",
    "print(classification_report(y_test_original, y_test_pred_rf))\n",
    "print(\"Confusion Matrix:\\n\", confusion_matrix(y_test_original, y_test_pred_rf))\n"
   ]
  }
 ],
 "metadata": {
  "kernelspec": {
   "display_name": "Python 3",
   "language": "python",
   "name": "python3"
  },
  "language_info": {
   "codemirror_mode": {
    "name": "ipython",
    "version": 3
   },
   "file_extension": ".py",
   "mimetype": "text/x-python",
   "name": "python",
   "nbconvert_exporter": "python",
   "pygments_lexer": "ipython3",
   "version": "3.10.9"
  }
 },
 "nbformat": 4,
 "nbformat_minor": 5
}
